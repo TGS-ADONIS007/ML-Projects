{
 "cells": [
  {
   "cell_type": "markdown",
   "metadata": {},
   "source": [
    "### Reading the market data of HCLTECH stock and preparing a training dataset and validation dataset."
   ]
  },
  {
   "cell_type": "code",
   "execution_count": 1,
   "metadata": {},
   "outputs": [],
   "source": [
    "import pandas as pd\n",
    "import numpy as np"
   ]
  },
  {
   "cell_type": "code",
   "execution_count": 2,
   "metadata": {},
   "outputs": [
    {
     "data": {
      "text/html": [
       "<div>\n",
       "<style scoped>\n",
       "    .dataframe tbody tr th:only-of-type {\n",
       "        vertical-align: middle;\n",
       "    }\n",
       "\n",
       "    .dataframe tbody tr th {\n",
       "        vertical-align: top;\n",
       "    }\n",
       "\n",
       "    .dataframe thead th {\n",
       "        text-align: right;\n",
       "    }\n",
       "</style>\n",
       "<table border=\"1\" class=\"dataframe\">\n",
       "  <thead>\n",
       "    <tr style=\"text-align: right;\">\n",
       "      <th></th>\n",
       "      <th>Date</th>\n",
       "      <th>Symbol</th>\n",
       "      <th>Series</th>\n",
       "      <th>Prev Close</th>\n",
       "      <th>Open</th>\n",
       "      <th>High</th>\n",
       "      <th>Low</th>\n",
       "      <th>Last</th>\n",
       "      <th>Close</th>\n",
       "      <th>VWAP</th>\n",
       "      <th>Volume</th>\n",
       "      <th>Turnover</th>\n",
       "      <th>Trades</th>\n",
       "      <th>Deliverable Volume</th>\n",
       "      <th>%Deliverble</th>\n",
       "    </tr>\n",
       "  </thead>\n",
       "  <tbody>\n",
       "    <tr>\n",
       "      <th>0</th>\n",
       "      <td>2000-01-11</td>\n",
       "      <td>HCLTECH</td>\n",
       "      <td>EQ</td>\n",
       "      <td>580.00</td>\n",
       "      <td>1550.0</td>\n",
       "      <td>1725.00</td>\n",
       "      <td>1492.00</td>\n",
       "      <td>1560.00</td>\n",
       "      <td>1554.45</td>\n",
       "      <td>1582.72</td>\n",
       "      <td>1192200</td>\n",
       "      <td>1.886915e+14</td>\n",
       "      <td>NaN</td>\n",
       "      <td>NaN</td>\n",
       "      <td>NaN</td>\n",
       "    </tr>\n",
       "    <tr>\n",
       "      <th>1</th>\n",
       "      <td>2000-01-12</td>\n",
       "      <td>HCLTECH</td>\n",
       "      <td>EQ</td>\n",
       "      <td>1554.45</td>\n",
       "      <td>1560.0</td>\n",
       "      <td>1678.85</td>\n",
       "      <td>1560.00</td>\n",
       "      <td>1678.85</td>\n",
       "      <td>1678.85</td>\n",
       "      <td>1657.05</td>\n",
       "      <td>344850</td>\n",
       "      <td>5.714349e+13</td>\n",
       "      <td>NaN</td>\n",
       "      <td>NaN</td>\n",
       "      <td>NaN</td>\n",
       "    </tr>\n",
       "    <tr>\n",
       "      <th>2</th>\n",
       "      <td>2000-01-13</td>\n",
       "      <td>HCLTECH</td>\n",
       "      <td>EQ</td>\n",
       "      <td>1678.85</td>\n",
       "      <td>1790.0</td>\n",
       "      <td>1813.20</td>\n",
       "      <td>1781.00</td>\n",
       "      <td>1813.20</td>\n",
       "      <td>1813.20</td>\n",
       "      <td>1804.69</td>\n",
       "      <td>53000</td>\n",
       "      <td>9.564880e+12</td>\n",
       "      <td>NaN</td>\n",
       "      <td>NaN</td>\n",
       "      <td>NaN</td>\n",
       "    </tr>\n",
       "    <tr>\n",
       "      <th>3</th>\n",
       "      <td>2000-01-14</td>\n",
       "      <td>HCLTECH</td>\n",
       "      <td>EQ</td>\n",
       "      <td>1813.20</td>\n",
       "      <td>1958.3</td>\n",
       "      <td>1958.30</td>\n",
       "      <td>1835.00</td>\n",
       "      <td>1958.30</td>\n",
       "      <td>1958.30</td>\n",
       "      <td>1939.90</td>\n",
       "      <td>270950</td>\n",
       "      <td>5.256169e+13</td>\n",
       "      <td>NaN</td>\n",
       "      <td>NaN</td>\n",
       "      <td>NaN</td>\n",
       "    </tr>\n",
       "    <tr>\n",
       "      <th>4</th>\n",
       "      <td>2000-01-17</td>\n",
       "      <td>HCLTECH</td>\n",
       "      <td>EQ</td>\n",
       "      <td>1958.30</td>\n",
       "      <td>2115.0</td>\n",
       "      <td>2115.00</td>\n",
       "      <td>1801.65</td>\n",
       "      <td>1801.65</td>\n",
       "      <td>1801.65</td>\n",
       "      <td>1990.55</td>\n",
       "      <td>428800</td>\n",
       "      <td>8.535473e+13</td>\n",
       "      <td>NaN</td>\n",
       "      <td>NaN</td>\n",
       "      <td>NaN</td>\n",
       "    </tr>\n",
       "  </tbody>\n",
       "</table>\n",
       "</div>"
      ],
      "text/plain": [
       "         Date   Symbol Series  Prev Close    Open     High      Low     Last  \\\n",
       "0  2000-01-11  HCLTECH     EQ      580.00  1550.0  1725.00  1492.00  1560.00   \n",
       "1  2000-01-12  HCLTECH     EQ     1554.45  1560.0  1678.85  1560.00  1678.85   \n",
       "2  2000-01-13  HCLTECH     EQ     1678.85  1790.0  1813.20  1781.00  1813.20   \n",
       "3  2000-01-14  HCLTECH     EQ     1813.20  1958.3  1958.30  1835.00  1958.30   \n",
       "4  2000-01-17  HCLTECH     EQ     1958.30  2115.0  2115.00  1801.65  1801.65   \n",
       "\n",
       "     Close     VWAP   Volume      Turnover  Trades  Deliverable Volume  \\\n",
       "0  1554.45  1582.72  1192200  1.886915e+14     NaN                 NaN   \n",
       "1  1678.85  1657.05   344850  5.714349e+13     NaN                 NaN   \n",
       "2  1813.20  1804.69    53000  9.564880e+12     NaN                 NaN   \n",
       "3  1958.30  1939.90   270950  5.256169e+13     NaN                 NaN   \n",
       "4  1801.65  1990.55   428800  8.535473e+13     NaN                 NaN   \n",
       "\n",
       "   %Deliverble  \n",
       "0          NaN  \n",
       "1          NaN  \n",
       "2          NaN  \n",
       "3          NaN  \n",
       "4          NaN  "
      ]
     },
     "execution_count": 2,
     "metadata": {},
     "output_type": "execute_result"
    }
   ],
   "source": [
    "df=pd.read_csv(r'C:\\Users\\HP\\Downloads\\NIFTY50\\HCLTECH.csv')\n",
    "df.head()"
   ]
  },
  {
   "cell_type": "code",
   "execution_count": 3,
   "metadata": {},
   "outputs": [],
   "source": [
    "df.set_index('Date',inplace=True)"
   ]
  },
  {
   "cell_type": "code",
   "execution_count": null,
   "metadata": {},
   "outputs": [],
   "source": []
  },
  {
   "cell_type": "markdown",
   "metadata": {},
   "source": [
    "#### Plotting the target variable VWAP over time"
   ]
  },
  {
   "cell_type": "code",
   "execution_count": 53,
   "metadata": {},
   "outputs": [
    {
     "data": {
      "text/plain": [
       "<AxesSubplot:xlabel='Date'>"
      ]
     },
     "execution_count": 53,
     "metadata": {},
     "output_type": "execute_result"
    },
    {
     "data": {
      "image/png": "[encoded data removed]",
      "text/plain": [
       "<Figure size 1008x504 with 1 Axes>"
      ]
     },
     "metadata": {
      "needs_background": "light"
     },
     "output_type": "display_data"
    }
   ],
   "source": [
    "df['VWAP'].plot(figsize=(14,7))"
   ]
  },
  {
   "cell_type": "markdown",
   "metadata": {},
   "source": [
    "### so u can observe here some kind of Seasonality"
   ]
  },
  {
   "cell_type": "raw",
   "metadata": {},
   "source": [
    "Feature Engineering\n",
    "Almost every time series problem will have some external features or some internal feature engineering to help the model.\n",
    "\n",
    "Let's add some basic features like lag values of available numeric features that are widely used for time series problems. Since we need to predict the price of the stock for a day, we cannot use the feature values of the same day since they will be unavailable at actual inference time. We need to use statistics like mean, standard deviation of their lagged values.\n",
    "\n",
    "We will use three sets of lagged values, one previous day, one looking back 7 days and another looking back 30 days as a proxy for last week and last month metrics."
   ]
  },
  {
   "cell_type": "markdown",
   "metadata": {},
   "source": [
    "### Data Pre-Processing"
   ]
  },
  {
   "cell_type": "code",
   "execution_count": 5,
   "metadata": {},
   "outputs": [
    {
     "data": {
      "text/plain": [
       "(5300, 14)"
      ]
     },
     "execution_count": 5,
     "metadata": {},
     "output_type": "execute_result"
    }
   ],
   "source": [
    "df.shape"
   ]
  },
  {
   "cell_type": "code",
   "execution_count": 6,
   "metadata": {},
   "outputs": [
    {
     "data": {
      "text/plain": [
       "Symbol                   0\n",
       "Series                   0\n",
       "Prev Close               0\n",
       "Open                     0\n",
       "High                     0\n",
       "Low                      0\n",
       "Last                     0\n",
       "Close                    0\n",
       "VWAP                     0\n",
       "Volume                   0\n",
       "Turnover                 0\n",
       "Trades                2844\n",
       "Deliverable Volume     503\n",
       "%Deliverble            503\n",
       "dtype: int64"
      ]
     },
     "execution_count": 6,
     "metadata": {},
     "output_type": "execute_result"
    }
   ],
   "source": [
    "df.isna().sum()"
   ]
  },
  {
   "cell_type": "code",
   "execution_count": 7,
   "metadata": {},
   "outputs": [],
   "source": [
    "df.dropna(inplace=True)"
   ]
  },
  {
   "cell_type": "code",
   "execution_count": 8,
   "metadata": {},
   "outputs": [
    {
     "data": {
      "text/plain": [
       "Symbol                0\n",
       "Series                0\n",
       "Prev Close            0\n",
       "Open                  0\n",
       "High                  0\n",
       "Low                   0\n",
       "Last                  0\n",
       "Close                 0\n",
       "VWAP                  0\n",
       "Volume                0\n",
       "Turnover              0\n",
       "Trades                0\n",
       "Deliverable Volume    0\n",
       "%Deliverble           0\n",
       "dtype: int64"
      ]
     },
     "execution_count": 8,
     "metadata": {},
     "output_type": "execute_result"
    }
   ],
   "source": [
    "df.isna().sum()"
   ]
  },
  {
   "cell_type": "code",
   "execution_count": 9,
   "metadata": {},
   "outputs": [
    {
     "data": {
      "text/plain": [
       "(2456, 14)"
      ]
     },
     "execution_count": 9,
     "metadata": {},
     "output_type": "execute_result"
    }
   ],
   "source": [
    "df.shape"
   ]
  },
  {
   "cell_type": "code",
   "execution_count": 10,
   "metadata": {},
   "outputs": [],
   "source": [
    "data=df.copy()"
   ]
  },
  {
   "cell_type": "code",
   "execution_count": 11,
   "metadata": {},
   "outputs": [
    {
     "data": {
      "text/plain": [
       "Symbol                 object\n",
       "Series                 object\n",
       "Prev Close            float64\n",
       "Open                  float64\n",
       "High                  float64\n",
       "Low                   float64\n",
       "Last                  float64\n",
       "Close                 float64\n",
       "VWAP                  float64\n",
       "Volume                  int64\n",
       "Turnover              float64\n",
       "Trades                float64\n",
       "Deliverable Volume    float64\n",
       "%Deliverble           float64\n",
       "dtype: object"
      ]
     },
     "execution_count": 11,
     "metadata": {},
     "output_type": "execute_result"
    }
   ],
   "source": [
    "data.dtypes"
   ]
  },
  {
   "cell_type": "code",
   "execution_count": 12,
   "metadata": {},
   "outputs": [
    {
     "data": {
      "text/plain": [
       "Index(['Symbol', 'Series', 'Prev Close', 'Open', 'High', 'Low', 'Last',\n",
       "       'Close', 'VWAP', 'Volume', 'Turnover', 'Trades', 'Deliverable Volume',\n",
       "       '%Deliverble'],\n",
       "      dtype='object')"
      ]
     },
     "execution_count": 12,
     "metadata": {},
     "output_type": "execute_result"
    }
   ],
   "source": [
    "data.columns"
   ]
  },
  {
   "cell_type": "code",
   "execution_count": 13,
   "metadata": {},
   "outputs": [],
   "source": [
    "lag_features=['High','Low','Volume','Turnover','Trades']\n",
    "window1=3\n",
    "window2=7"
   ]
  },
  {
   "cell_type": "code",
   "execution_count": 14,
   "metadata": {},
   "outputs": [],
   "source": [
    "for feature in lag_features:\n",
    "    data[feature+'rolling_mean_3']=data[feature].rolling(window=window1).mean()\n",
    "    data[feature+'rolling_mean_7']=data[feature].rolling(window=window2).mean()"
   ]
  },
  {
   "cell_type": "code",
   "execution_count": 15,
   "metadata": {},
   "outputs": [],
   "source": [
    "for feature in lag_features:\n",
    "    data[feature+'rolling_std_3']=data[feature].rolling(window=window1).std()\n",
    "    data[feature+'rolling_std_7']=data[feature].rolling(window=window2).std()"
   ]
  },
  {
   "cell_type": "code",
   "execution_count": 16,
   "metadata": {},
   "outputs": [
    {
     "data": {
      "text/html": [
       "<div>\n",
       "<style scoped>\n",
       "    .dataframe tbody tr th:only-of-type {\n",
       "        vertical-align: middle;\n",
       "    }\n",
       "\n",
       "    .dataframe tbody tr th {\n",
       "        vertical-align: top;\n",
       "    }\n",
       "\n",
       "    .dataframe thead th {\n",
       "        text-align: right;\n",
       "    }\n",
       "</style>\n",
       "<table border=\"1\" class=\"dataframe\">\n",
       "  <thead>\n",
       "    <tr style=\"text-align: right;\">\n",
       "      <th></th>\n",
       "      <th>Symbol</th>\n",
       "      <th>Series</th>\n",
       "      <th>Prev Close</th>\n",
       "      <th>Open</th>\n",
       "      <th>High</th>\n",
       "      <th>Low</th>\n",
       "      <th>Last</th>\n",
       "      <th>Close</th>\n",
       "      <th>VWAP</th>\n",
       "      <th>Volume</th>\n",
       "      <th>...</th>\n",
       "      <th>Highrolling_std_3</th>\n",
       "      <th>Highrolling_std_7</th>\n",
       "      <th>Lowrolling_std_3</th>\n",
       "      <th>Lowrolling_std_7</th>\n",
       "      <th>Volumerolling_std_3</th>\n",
       "      <th>Volumerolling_std_7</th>\n",
       "      <th>Turnoverrolling_std_3</th>\n",
       "      <th>Turnoverrolling_std_7</th>\n",
       "      <th>Tradesrolling_std_3</th>\n",
       "      <th>Tradesrolling_std_7</th>\n",
       "    </tr>\n",
       "    <tr>\n",
       "      <th>Date</th>\n",
       "      <th></th>\n",
       "      <th></th>\n",
       "      <th></th>\n",
       "      <th></th>\n",
       "      <th></th>\n",
       "      <th></th>\n",
       "      <th></th>\n",
       "      <th></th>\n",
       "      <th></th>\n",
       "      <th></th>\n",
       "      <th></th>\n",
       "      <th></th>\n",
       "      <th></th>\n",
       "      <th></th>\n",
       "      <th></th>\n",
       "      <th></th>\n",
       "      <th></th>\n",
       "      <th></th>\n",
       "      <th></th>\n",
       "      <th></th>\n",
       "      <th></th>\n",
       "    </tr>\n",
       "  </thead>\n",
       "  <tbody>\n",
       "    <tr>\n",
       "      <th>2011-06-01</th>\n",
       "      <td>HCLTECH</td>\n",
       "      <td>EQ</td>\n",
       "      <td>514.80</td>\n",
       "      <td>511.40</td>\n",
       "      <td>516.00</td>\n",
       "      <td>509.00</td>\n",
       "      <td>514.75</td>\n",
       "      <td>514.40</td>\n",
       "      <td>512.70</td>\n",
       "      <td>287699</td>\n",
       "      <td>...</td>\n",
       "      <td>NaN</td>\n",
       "      <td>NaN</td>\n",
       "      <td>NaN</td>\n",
       "      <td>NaN</td>\n",
       "      <td>NaN</td>\n",
       "      <td>NaN</td>\n",
       "      <td>NaN</td>\n",
       "      <td>NaN</td>\n",
       "      <td>NaN</td>\n",
       "      <td>NaN</td>\n",
       "    </tr>\n",
       "    <tr>\n",
       "      <th>2011-06-02</th>\n",
       "      <td>HCLTECH</td>\n",
       "      <td>EQ</td>\n",
       "      <td>514.40</td>\n",
       "      <td>509.00</td>\n",
       "      <td>515.25</td>\n",
       "      <td>508.70</td>\n",
       "      <td>514.75</td>\n",
       "      <td>513.70</td>\n",
       "      <td>512.86</td>\n",
       "      <td>307689</td>\n",
       "      <td>...</td>\n",
       "      <td>NaN</td>\n",
       "      <td>NaN</td>\n",
       "      <td>NaN</td>\n",
       "      <td>NaN</td>\n",
       "      <td>NaN</td>\n",
       "      <td>NaN</td>\n",
       "      <td>NaN</td>\n",
       "      <td>NaN</td>\n",
       "      <td>NaN</td>\n",
       "      <td>NaN</td>\n",
       "    </tr>\n",
       "    <tr>\n",
       "      <th>2011-06-03</th>\n",
       "      <td>HCLTECH</td>\n",
       "      <td>EQ</td>\n",
       "      <td>513.70</td>\n",
       "      <td>512.05</td>\n",
       "      <td>517.50</td>\n",
       "      <td>508.90</td>\n",
       "      <td>513.70</td>\n",
       "      <td>512.35</td>\n",
       "      <td>513.58</td>\n",
       "      <td>379167</td>\n",
       "      <td>...</td>\n",
       "      <td>1.145644</td>\n",
       "      <td>NaN</td>\n",
       "      <td>0.152753</td>\n",
       "      <td>NaN</td>\n",
       "      <td>48088.632766</td>\n",
       "      <td>NaN</td>\n",
       "      <td>2.483403e+12</td>\n",
       "      <td>NaN</td>\n",
       "      <td>2315.298973</td>\n",
       "      <td>NaN</td>\n",
       "    </tr>\n",
       "    <tr>\n",
       "      <th>2011-06-06</th>\n",
       "      <td>HCLTECH</td>\n",
       "      <td>EQ</td>\n",
       "      <td>512.35</td>\n",
       "      <td>508.05</td>\n",
       "      <td>514.00</td>\n",
       "      <td>505.05</td>\n",
       "      <td>509.10</td>\n",
       "      <td>509.50</td>\n",
       "      <td>508.07</td>\n",
       "      <td>285294</td>\n",
       "      <td>...</td>\n",
       "      <td>1.773650</td>\n",
       "      <td>NaN</td>\n",
       "      <td>2.167372</td>\n",
       "      <td>NaN</td>\n",
       "      <td>49028.530194</td>\n",
       "      <td>NaN</td>\n",
       "      <td>2.584369e+12</td>\n",
       "      <td>NaN</td>\n",
       "      <td>2079.889661</td>\n",
       "      <td>NaN</td>\n",
       "    </tr>\n",
       "    <tr>\n",
       "      <th>2011-06-07</th>\n",
       "      <td>HCLTECH</td>\n",
       "      <td>EQ</td>\n",
       "      <td>509.50</td>\n",
       "      <td>504.05</td>\n",
       "      <td>514.95</td>\n",
       "      <td>504.05</td>\n",
       "      <td>511.95</td>\n",
       "      <td>511.80</td>\n",
       "      <td>510.77</td>\n",
       "      <td>403694</td>\n",
       "      <td>...</td>\n",
       "      <td>1.809926</td>\n",
       "      <td>NaN</td>\n",
       "      <td>2.560762</td>\n",
       "      <td>NaN</td>\n",
       "      <td>62493.031422</td>\n",
       "      <td>NaN</td>\n",
       "      <td>3.256026e+12</td>\n",
       "      <td>NaN</td>\n",
       "      <td>2139.991199</td>\n",
       "      <td>NaN</td>\n",
       "    </tr>\n",
       "  </tbody>\n",
       "</table>\n",
       "<p>5 rows × 34 columns</p>\n",
       "</div>"
      ],
      "text/plain": [
       "             Symbol Series  Prev Close    Open    High     Low    Last  \\\n",
       "Date                                                                     \n",
       "2011-06-01  HCLTECH     EQ      514.80  511.40  516.00  509.00  514.75   \n",
       "2011-06-02  HCLTECH     EQ      514.40  509.00  515.25  508.70  514.75   \n",
       "2011-06-03  HCLTECH     EQ      513.70  512.05  517.50  508.90  513.70   \n",
       "2011-06-06  HCLTECH     EQ      512.35  508.05  514.00  505.05  509.10   \n",
       "2011-06-07  HCLTECH     EQ      509.50  504.05  514.95  504.05  511.95   \n",
       "\n",
       "             Close    VWAP  Volume  ...  Highrolling_std_3  Highrolling_std_7  \\\n",
       "Date                                ...                                         \n",
       "2011-06-01  514.40  512.70  287699  ...                NaN                NaN   \n",
       "2011-06-02  513.70  512.86  307689  ...                NaN                NaN   \n",
       "2011-06-03  512.35  513.58  379167  ...           1.145644                NaN   \n",
       "2011-06-06  509.50  508.07  285294  ...           1.773650                NaN   \n",
       "2011-06-07  511.80  510.77  403694  ...           1.809926                NaN   \n",
       "\n",
       "            Lowrolling_std_3  Lowrolling_std_7  Volumerolling_std_3  \\\n",
       "Date                                                                  \n",
       "2011-06-01               NaN               NaN                  NaN   \n",
       "2011-06-02               NaN               NaN                  NaN   \n",
       "2011-06-03          0.152753               NaN         48088.632766   \n",
       "2011-06-06          2.167372               NaN         49028.530194   \n",
       "2011-06-07          2.560762               NaN         62493.031422   \n",
       "\n",
       "            Volumerolling_std_7  Turnoverrolling_std_3  Turnoverrolling_std_7  \\\n",
       "Date                                                                            \n",
       "2011-06-01                  NaN                    NaN                    NaN   \n",
       "2011-06-02                  NaN                    NaN                    NaN   \n",
       "2011-06-03                  NaN           2.483403e+12                    NaN   \n",
       "2011-06-06                  NaN           2.584369e+12                    NaN   \n",
       "2011-06-07                  NaN           3.256026e+12                    NaN   \n",
       "\n",
       "            Tradesrolling_std_3  Tradesrolling_std_7  \n",
       "Date                                                  \n",
       "2011-06-01                  NaN                  NaN  \n",
       "2011-06-02                  NaN                  NaN  \n",
       "2011-06-03          2315.298973                  NaN  \n",
       "2011-06-06          2079.889661                  NaN  \n",
       "2011-06-07          2139.991199                  NaN  \n",
       "\n",
       "[5 rows x 34 columns]"
      ]
     },
     "execution_count": 16,
     "metadata": {},
     "output_type": "execute_result"
    }
   ],
   "source": [
    "data.head()"
   ]
  },
  {
   "cell_type": "code",
   "execution_count": 17,
   "metadata": {},
   "outputs": [
    {
     "data": {
      "text/plain": [
       "Index(['Symbol', 'Series', 'Prev Close', 'Open', 'High', 'Low', 'Last',\n",
       "       'Close', 'VWAP', 'Volume', 'Turnover', 'Trades', 'Deliverable Volume',\n",
       "       '%Deliverble', 'Highrolling_mean_3', 'Highrolling_mean_7',\n",
       "       'Lowrolling_mean_3', 'Lowrolling_mean_7', 'Volumerolling_mean_3',\n",
       "       'Volumerolling_mean_7', 'Turnoverrolling_mean_3',\n",
       "       'Turnoverrolling_mean_7', 'Tradesrolling_mean_3',\n",
       "       'Tradesrolling_mean_7', 'Highrolling_std_3', 'Highrolling_std_7',\n",
       "       'Lowrolling_std_3', 'Lowrolling_std_7', 'Volumerolling_std_3',\n",
       "       'Volumerolling_std_7', 'Turnoverrolling_std_3', 'Turnoverrolling_std_7',\n",
       "       'Tradesrolling_std_3', 'Tradesrolling_std_7'],\n",
       "      dtype='object')"
      ]
     },
     "execution_count": 17,
     "metadata": {},
     "output_type": "execute_result"
    }
   ],
   "source": [
    "data.columns"
   ]
  },
  {
   "cell_type": "code",
   "execution_count": 18,
   "metadata": {},
   "outputs": [
    {
     "data": {
      "text/plain": [
       "(2456, 34)"
      ]
     },
     "execution_count": 18,
     "metadata": {},
     "output_type": "execute_result"
    }
   ],
   "source": [
    "data.shape"
   ]
  },
  {
   "cell_type": "code",
   "execution_count": 19,
   "metadata": {},
   "outputs": [
    {
     "data": {
      "text/plain": [
       "Symbol                    0\n",
       "Series                    0\n",
       "Prev Close                0\n",
       "Open                      0\n",
       "High                      0\n",
       "Low                       0\n",
       "Last                      0\n",
       "Close                     0\n",
       "VWAP                      0\n",
       "Volume                    0\n",
       "Turnover                  0\n",
       "Trades                    0\n",
       "Deliverable Volume        0\n",
       "%Deliverble               0\n",
       "Highrolling_mean_3        2\n",
       "Highrolling_mean_7        6\n",
       "Lowrolling_mean_3         2\n",
       "Lowrolling_mean_7         6\n",
       "Volumerolling_mean_3      2\n",
       "Volumerolling_mean_7      6\n",
       "Turnoverrolling_mean_3    2\n",
       "Turnoverrolling_mean_7    6\n",
       "Tradesrolling_mean_3      2\n",
       "Tradesrolling_mean_7      6\n",
       "Highrolling_std_3         2\n",
       "Highrolling_std_7         6\n",
       "Lowrolling_std_3          2\n",
       "Lowrolling_std_7          6\n",
       "Volumerolling_std_3       2\n",
       "Volumerolling_std_7       6\n",
       "Turnoverrolling_std_3     2\n",
       "Turnoverrolling_std_7     6\n",
       "Tradesrolling_std_3       2\n",
       "Tradesrolling_std_7       6\n",
       "dtype: int64"
      ]
     },
     "execution_count": 19,
     "metadata": {},
     "output_type": "execute_result"
    }
   ],
   "source": [
    "data.isna().sum()"
   ]
  },
  {
   "cell_type": "code",
   "execution_count": 20,
   "metadata": {},
   "outputs": [],
   "source": [
    "data.dropna(inplace=True)"
   ]
  },
  {
   "cell_type": "code",
   "execution_count": 21,
   "metadata": {},
   "outputs": [
    {
     "data": {
      "text/plain": [
       "Index(['Symbol', 'Series', 'Prev Close', 'Open', 'High', 'Low', 'Last',\n",
       "       'Close', 'VWAP', 'Volume', 'Turnover', 'Trades', 'Deliverable Volume',\n",
       "       '%Deliverble', 'Highrolling_mean_3', 'Highrolling_mean_7',\n",
       "       'Lowrolling_mean_3', 'Lowrolling_mean_7', 'Volumerolling_mean_3',\n",
       "       'Volumerolling_mean_7', 'Turnoverrolling_mean_3',\n",
       "       'Turnoverrolling_mean_7', 'Tradesrolling_mean_3',\n",
       "       'Tradesrolling_mean_7', 'Highrolling_std_3', 'Highrolling_std_7',\n",
       "       'Lowrolling_std_3', 'Lowrolling_std_7', 'Volumerolling_std_3',\n",
       "       'Volumerolling_std_7', 'Turnoverrolling_std_3', 'Turnoverrolling_std_7',\n",
       "       'Tradesrolling_std_3', 'Tradesrolling_std_7'],\n",
       "      dtype='object')"
      ]
     },
     "execution_count": 21,
     "metadata": {},
     "output_type": "execute_result"
    }
   ],
   "source": [
    "data.columns"
   ]
  },
  {
   "cell_type": "code",
   "execution_count": 22,
   "metadata": {},
   "outputs": [],
   "source": [
    "ind_features=['Highrolling_mean_3', 'Highrolling_mean_7',\n",
    "       'Lowrolling_mean_3', 'Lowrolling_mean_7', 'Volumerolling_mean_3',\n",
    "       'Volumerolling_mean_7', 'Turnoverrolling_mean_3',\n",
    "       'Turnoverrolling_mean_7', 'Tradesrolling_mean_3',\n",
    "       'Tradesrolling_mean_7', 'Highrolling_std_3', 'Highrolling_std_7',\n",
    "       'Lowrolling_std_3', 'Lowrolling_std_7', 'Volumerolling_std_3',\n",
    "       'Volumerolling_std_7', 'Turnoverrolling_std_3', 'Turnoverrolling_std_7',\n",
    "       'Tradesrolling_std_3', 'Tradesrolling_std_7']"
   ]
  },
  {
   "cell_type": "code",
   "execution_count": 23,
   "metadata": {},
   "outputs": [],
   "source": [
    "training_data=data[0:1800]\n",
    "test_data=data[1800:]"
   ]
  },
  {
   "cell_type": "code",
   "execution_count": 24,
   "metadata": {},
   "outputs": [
    {
     "data": {
      "text/html": [
       "<div>\n",
       "<style scoped>\n",
       "    .dataframe tbody tr th:only-of-type {\n",
       "        vertical-align: middle;\n",
       "    }\n",
       "\n",
       "    .dataframe tbody tr th {\n",
       "        vertical-align: top;\n",
       "    }\n",
       "\n",
       "    .dataframe thead th {\n",
       "        text-align: right;\n",
       "    }\n",
       "</style>\n",
       "<table border=\"1\" class=\"dataframe\">\n",
       "  <thead>\n",
       "    <tr style=\"text-align: right;\">\n",
       "      <th></th>\n",
       "      <th>Symbol</th>\n",
       "      <th>Series</th>\n",
       "      <th>Prev Close</th>\n",
       "      <th>Open</th>\n",
       "      <th>High</th>\n",
       "      <th>Low</th>\n",
       "      <th>Last</th>\n",
       "      <th>Close</th>\n",
       "      <th>VWAP</th>\n",
       "      <th>Volume</th>\n",
       "      <th>...</th>\n",
       "      <th>Highrolling_std_3</th>\n",
       "      <th>Highrolling_std_7</th>\n",
       "      <th>Lowrolling_std_3</th>\n",
       "      <th>Lowrolling_std_7</th>\n",
       "      <th>Volumerolling_std_3</th>\n",
       "      <th>Volumerolling_std_7</th>\n",
       "      <th>Turnoverrolling_std_3</th>\n",
       "      <th>Turnoverrolling_std_7</th>\n",
       "      <th>Tradesrolling_std_3</th>\n",
       "      <th>Tradesrolling_std_7</th>\n",
       "    </tr>\n",
       "    <tr>\n",
       "      <th>Date</th>\n",
       "      <th></th>\n",
       "      <th></th>\n",
       "      <th></th>\n",
       "      <th></th>\n",
       "      <th></th>\n",
       "      <th></th>\n",
       "      <th></th>\n",
       "      <th></th>\n",
       "      <th></th>\n",
       "      <th></th>\n",
       "      <th></th>\n",
       "      <th></th>\n",
       "      <th></th>\n",
       "      <th></th>\n",
       "      <th></th>\n",
       "      <th></th>\n",
       "      <th></th>\n",
       "      <th></th>\n",
       "      <th></th>\n",
       "      <th></th>\n",
       "      <th></th>\n",
       "    </tr>\n",
       "  </thead>\n",
       "  <tbody>\n",
       "    <tr>\n",
       "      <th>2011-06-09</th>\n",
       "      <td>HCLTECH</td>\n",
       "      <td>EQ</td>\n",
       "      <td>510.95</td>\n",
       "      <td>503.70</td>\n",
       "      <td>508.95</td>\n",
       "      <td>497.70</td>\n",
       "      <td>508.00</td>\n",
       "      <td>507.70</td>\n",
       "      <td>503.70</td>\n",
       "      <td>453600</td>\n",
       "      <td>...</td>\n",
       "      <td>3.031089</td>\n",
       "      <td>2.758234</td>\n",
       "      <td>5.451223</td>\n",
       "      <td>4.179257</td>\n",
       "      <td>156755.808862</td>\n",
       "      <td>96573.509497</td>\n",
       "      <td>7.889612e+12</td>\n",
       "      <td>4.872383e+12</td>\n",
       "      <td>3056.889269</td>\n",
       "      <td>2296.811226</td>\n",
       "    </tr>\n",
       "    <tr>\n",
       "      <th>2011-06-10</th>\n",
       "      <td>HCLTECH</td>\n",
       "      <td>EQ</td>\n",
       "      <td>507.70</td>\n",
       "      <td>504.00</td>\n",
       "      <td>508.55</td>\n",
       "      <td>501.10</td>\n",
       "      <td>502.25</td>\n",
       "      <td>502.85</td>\n",
       "      <td>503.71</td>\n",
       "      <td>180156</td>\n",
       "      <td>...</td>\n",
       "      <td>2.289287</td>\n",
       "      <td>3.324011</td>\n",
       "      <td>5.549550</td>\n",
       "      <td>4.296870</td>\n",
       "      <td>163810.387477</td>\n",
       "      <td>111039.891708</td>\n",
       "      <td>8.214331e+12</td>\n",
       "      <td>5.642149e+12</td>\n",
       "      <td>3221.773632</td>\n",
       "      <td>2272.888900</td>\n",
       "    </tr>\n",
       "    <tr>\n",
       "      <th>2011-06-13</th>\n",
       "      <td>HCLTECH</td>\n",
       "      <td>EQ</td>\n",
       "      <td>502.85</td>\n",
       "      <td>501.00</td>\n",
       "      <td>506.00</td>\n",
       "      <td>496.50</td>\n",
       "      <td>500.95</td>\n",
       "      <td>500.35</td>\n",
       "      <td>501.95</td>\n",
       "      <td>372637</td>\n",
       "      <td>...</td>\n",
       "      <td>1.600260</td>\n",
       "      <td>4.090378</td>\n",
       "      <td>2.386071</td>\n",
       "      <td>4.911963</td>\n",
       "      <td>140460.886528</td>\n",
       "      <td>113498.077030</td>\n",
       "      <td>7.066326e+12</td>\n",
       "      <td>5.748965e+12</td>\n",
       "      <td>2862.826575</td>\n",
       "      <td>2595.170707</td>\n",
       "    </tr>\n",
       "    <tr>\n",
       "      <th>2011-06-14</th>\n",
       "      <td>HCLTECH</td>\n",
       "      <td>EQ</td>\n",
       "      <td>500.35</td>\n",
       "      <td>504.00</td>\n",
       "      <td>509.30</td>\n",
       "      <td>502.10</td>\n",
       "      <td>509.00</td>\n",
       "      <td>507.60</td>\n",
       "      <td>506.52</td>\n",
       "      <td>302309</td>\n",
       "      <td>...</td>\n",
       "      <td>1.729884</td>\n",
       "      <td>3.282747</td>\n",
       "      <td>2.986637</td>\n",
       "      <td>4.199405</td>\n",
       "      <td>97396.370872</td>\n",
       "      <td>110417.912572</td>\n",
       "      <td>4.884465e+12</td>\n",
       "      <td>5.566683e+12</td>\n",
       "      <td>2577.047988</td>\n",
       "      <td>2381.563422</td>\n",
       "    </tr>\n",
       "    <tr>\n",
       "      <th>2011-06-15</th>\n",
       "      <td>HCLTECH</td>\n",
       "      <td>EQ</td>\n",
       "      <td>507.60</td>\n",
       "      <td>505.00</td>\n",
       "      <td>509.40</td>\n",
       "      <td>498.10</td>\n",
       "      <td>500.00</td>\n",
       "      <td>499.20</td>\n",
       "      <td>503.66</td>\n",
       "      <td>418302</td>\n",
       "      <td>...</td>\n",
       "      <td>1.934770</td>\n",
       "      <td>2.939509</td>\n",
       "      <td>2.884441</td>\n",
       "      <td>4.221022</td>\n",
       "      <td>58431.863251</td>\n",
       "      <td>117039.403639</td>\n",
       "      <td>2.893123e+12</td>\n",
       "      <td>5.892424e+12</td>\n",
       "      <td>3312.451408</td>\n",
       "      <td>2742.084478</td>\n",
       "    </tr>\n",
       "    <tr>\n",
       "      <th>...</th>\n",
       "      <td>...</td>\n",
       "      <td>...</td>\n",
       "      <td>...</td>\n",
       "      <td>...</td>\n",
       "      <td>...</td>\n",
       "      <td>...</td>\n",
       "      <td>...</td>\n",
       "      <td>...</td>\n",
       "      <td>...</td>\n",
       "      <td>...</td>\n",
       "      <td>...</td>\n",
       "      <td>...</td>\n",
       "      <td>...</td>\n",
       "      <td>...</td>\n",
       "      <td>...</td>\n",
       "      <td>...</td>\n",
       "      <td>...</td>\n",
       "      <td>...</td>\n",
       "      <td>...</td>\n",
       "      <td>...</td>\n",
       "      <td>...</td>\n",
       "    </tr>\n",
       "    <tr>\n",
       "      <th>2018-09-04</th>\n",
       "      <td>HCLTECH</td>\n",
       "      <td>EQ</td>\n",
       "      <td>1049.15</td>\n",
       "      <td>1051.15</td>\n",
       "      <td>1079.00</td>\n",
       "      <td>1051.00</td>\n",
       "      <td>1076.00</td>\n",
       "      <td>1076.35</td>\n",
       "      <td>1070.17</td>\n",
       "      <td>2792371</td>\n",
       "      <td>...</td>\n",
       "      <td>12.489996</td>\n",
       "      <td>15.583481</td>\n",
       "      <td>16.649424</td>\n",
       "      <td>13.592150</td>\n",
       "      <td>526576.262954</td>\n",
       "      <td>741947.598783</td>\n",
       "      <td>5.455941e+13</td>\n",
       "      <td>7.881549e+13</td>\n",
       "      <td>23819.540011</td>\n",
       "      <td>30954.380371</td>\n",
       "    </tr>\n",
       "    <tr>\n",
       "      <th>2018-09-05</th>\n",
       "      <td>HCLTECH</td>\n",
       "      <td>EQ</td>\n",
       "      <td>1076.35</td>\n",
       "      <td>1075.80</td>\n",
       "      <td>1087.00</td>\n",
       "      <td>1068.00</td>\n",
       "      <td>1077.00</td>\n",
       "      <td>1078.95</td>\n",
       "      <td>1078.81</td>\n",
       "      <td>2850556</td>\n",
       "      <td>...</td>\n",
       "      <td>13.316656</td>\n",
       "      <td>19.744333</td>\n",
       "      <td>12.093524</td>\n",
       "      <td>19.020074</td>\n",
       "      <td>344356.448601</td>\n",
       "      <td>642420.810822</td>\n",
       "      <td>3.999298e+13</td>\n",
       "      <td>6.940400e+13</td>\n",
       "      <td>15878.782164</td>\n",
       "      <td>29309.579144</td>\n",
       "    </tr>\n",
       "    <tr>\n",
       "      <th>2018-09-06</th>\n",
       "      <td>HCLTECH</td>\n",
       "      <td>EQ</td>\n",
       "      <td>1078.95</td>\n",
       "      <td>1075.00</td>\n",
       "      <td>1089.80</td>\n",
       "      <td>1065.40</td>\n",
       "      <td>1088.80</td>\n",
       "      <td>1088.80</td>\n",
       "      <td>1082.22</td>\n",
       "      <td>2995905</td>\n",
       "      <td>...</td>\n",
       "      <td>5.604760</td>\n",
       "      <td>22.354389</td>\n",
       "      <td>9.157147</td>\n",
       "      <td>21.788652</td>\n",
       "      <td>104831.543585</td>\n",
       "      <td>443453.659050</td>\n",
       "      <td>1.290506e+13</td>\n",
       "      <td>4.997563e+13</td>\n",
       "      <td>5679.811470</td>\n",
       "      <td>26030.079427</td>\n",
       "    </tr>\n",
       "    <tr>\n",
       "      <th>2018-09-07</th>\n",
       "      <td>HCLTECH</td>\n",
       "      <td>EQ</td>\n",
       "      <td>1088.80</td>\n",
       "      <td>1086.95</td>\n",
       "      <td>1086.95</td>\n",
       "      <td>1065.35</td>\n",
       "      <td>1072.50</td>\n",
       "      <td>1073.95</td>\n",
       "      <td>1073.28</td>\n",
       "      <td>2189939</td>\n",
       "      <td>...</td>\n",
       "      <td>1.631206</td>\n",
       "      <td>21.336055</td>\n",
       "      <td>1.515751</td>\n",
       "      <td>22.408441</td>\n",
       "      <td>429558.367327</td>\n",
       "      <td>408770.877006</td>\n",
       "      <td>4.740812e+13</td>\n",
       "      <td>4.460275e+13</td>\n",
       "      <td>14597.806445</td>\n",
       "      <td>23215.696626</td>\n",
       "    </tr>\n",
       "    <tr>\n",
       "      <th>2018-09-10</th>\n",
       "      <td>HCLTECH</td>\n",
       "      <td>EQ</td>\n",
       "      <td>1073.95</td>\n",
       "      <td>1077.00</td>\n",
       "      <td>1096.90</td>\n",
       "      <td>1077.00</td>\n",
       "      <td>1090.45</td>\n",
       "      <td>1088.70</td>\n",
       "      <td>1089.05</td>\n",
       "      <td>4102539</td>\n",
       "      <td>...</td>\n",
       "      <td>5.124045</td>\n",
       "      <td>15.616494</td>\n",
       "      <td>6.711743</td>\n",
       "      <td>19.355462</td>\n",
       "      <td>960230.767673</td>\n",
       "      <td>654143.127087</td>\n",
       "      <td>1.063093e+14</td>\n",
       "      <td>7.235435e+13</td>\n",
       "      <td>10562.612950</td>\n",
       "      <td>16251.256622</td>\n",
       "    </tr>\n",
       "  </tbody>\n",
       "</table>\n",
       "<p>1800 rows × 34 columns</p>\n",
       "</div>"
      ],
      "text/plain": [
       "             Symbol Series  Prev Close     Open     High      Low     Last  \\\n",
       "Date                                                                         \n",
       "2011-06-09  HCLTECH     EQ      510.95   503.70   508.95   497.70   508.00   \n",
       "2011-06-10  HCLTECH     EQ      507.70   504.00   508.55   501.10   502.25   \n",
       "2011-06-13  HCLTECH     EQ      502.85   501.00   506.00   496.50   500.95   \n",
       "2011-06-14  HCLTECH     EQ      500.35   504.00   509.30   502.10   509.00   \n",
       "2011-06-15  HCLTECH     EQ      507.60   505.00   509.40   498.10   500.00   \n",
       "...             ...    ...         ...      ...      ...      ...      ...   \n",
       "2018-09-04  HCLTECH     EQ     1049.15  1051.15  1079.00  1051.00  1076.00   \n",
       "2018-09-05  HCLTECH     EQ     1076.35  1075.80  1087.00  1068.00  1077.00   \n",
       "2018-09-06  HCLTECH     EQ     1078.95  1075.00  1089.80  1065.40  1088.80   \n",
       "2018-09-07  HCLTECH     EQ     1088.80  1086.95  1086.95  1065.35  1072.50   \n",
       "2018-09-10  HCLTECH     EQ     1073.95  1077.00  1096.90  1077.00  1090.45   \n",
       "\n",
       "              Close     VWAP   Volume  ...  Highrolling_std_3  \\\n",
       "Date                                   ...                      \n",
       "2011-06-09   507.70   503.70   453600  ...           3.031089   \n",
       "2011-06-10   502.85   503.71   180156  ...           2.289287   \n",
       "2011-06-13   500.35   501.95   372637  ...           1.600260   \n",
       "2011-06-14   507.60   506.52   302309  ...           1.729884   \n",
       "2011-06-15   499.20   503.66   418302  ...           1.934770   \n",
       "...             ...      ...      ...  ...                ...   \n",
       "2018-09-04  1076.35  1070.17  2792371  ...          12.489996   \n",
       "2018-09-05  1078.95  1078.81  2850556  ...          13.316656   \n",
       "2018-09-06  1088.80  1082.22  2995905  ...           5.604760   \n",
       "2018-09-07  1073.95  1073.28  2189939  ...           1.631206   \n",
       "2018-09-10  1088.70  1089.05  4102539  ...           5.124045   \n",
       "\n",
       "            Highrolling_std_7  Lowrolling_std_3  Lowrolling_std_7  \\\n",
       "Date                                                                \n",
       "2011-06-09           2.758234          5.451223          4.179257   \n",
       "2011-06-10           3.324011          5.549550          4.296870   \n",
       "2011-06-13           4.090378          2.386071          4.911963   \n",
       "2011-06-14           3.282747          2.986637          4.199405   \n",
       "2011-06-15           2.939509          2.884441          4.221022   \n",
       "...                       ...               ...               ...   \n",
       "2018-09-04          15.583481         16.649424         13.592150   \n",
       "2018-09-05          19.744333         12.093524         19.020074   \n",
       "2018-09-06          22.354389          9.157147         21.788652   \n",
       "2018-09-07          21.336055          1.515751         22.408441   \n",
       "2018-09-10          15.616494          6.711743         19.355462   \n",
       "\n",
       "            Volumerolling_std_3  Volumerolling_std_7  Turnoverrolling_std_3  \\\n",
       "Date                                                                          \n",
       "2011-06-09        156755.808862         96573.509497           7.889612e+12   \n",
       "2011-06-10        163810.387477        111039.891708           8.214331e+12   \n",
       "2011-06-13        140460.886528        113498.077030           7.066326e+12   \n",
       "2011-06-14         97396.370872        110417.912572           4.884465e+12   \n",
       "2011-06-15         58431.863251        117039.403639           2.893123e+12   \n",
       "...                         ...                  ...                    ...   \n",
       "2018-09-04        526576.262954        741947.598783           5.455941e+13   \n",
       "2018-09-05        344356.448601        642420.810822           3.999298e+13   \n",
       "2018-09-06        104831.543585        443453.659050           1.290506e+13   \n",
       "2018-09-07        429558.367327        408770.877006           4.740812e+13   \n",
       "2018-09-10        960230.767673        654143.127087           1.063093e+14   \n",
       "\n",
       "            Turnoverrolling_std_7  Tradesrolling_std_3  Tradesrolling_std_7  \n",
       "Date                                                                         \n",
       "2011-06-09           4.872383e+12          3056.889269          2296.811226  \n",
       "2011-06-10           5.642149e+12          3221.773632          2272.888900  \n",
       "2011-06-13           5.748965e+12          2862.826575          2595.170707  \n",
       "2011-06-14           5.566683e+12          2577.047988          2381.563422  \n",
       "2011-06-15           5.892424e+12          3312.451408          2742.084478  \n",
       "...                           ...                  ...                  ...  \n",
       "2018-09-04           7.881549e+13         23819.540011         30954.380371  \n",
       "2018-09-05           6.940400e+13         15878.782164         29309.579144  \n",
       "2018-09-06           4.997563e+13          5679.811470         26030.079427  \n",
       "2018-09-07           4.460275e+13         14597.806445         23215.696626  \n",
       "2018-09-10           7.235435e+13         10562.612950         16251.256622  \n",
       "\n",
       "[1800 rows x 34 columns]"
      ]
     },
     "execution_count": 24,
     "metadata": {},
     "output_type": "execute_result"
    }
   ],
   "source": [
    "training_data"
   ]
  },
  {
   "cell_type": "code",
   "execution_count": null,
   "metadata": {},
   "outputs": [],
   "source": []
  },
  {
   "cell_type": "code",
   "execution_count": 26,
   "metadata": {},
   "outputs": [],
   "source": [
    "from pmdarima import auto_arima"
   ]
  },
  {
   "cell_type": "code",
   "execution_count": 27,
   "metadata": {},
   "outputs": [],
   "source": [
    "import warnings\n",
    "warnings.filterwarnings('ignore')"
   ]
  },
  {
   "cell_type": "code",
   "execution_count": 28,
   "metadata": {},
   "outputs": [
    {
     "name": "stdout",
     "output_type": "stream",
     "text": [
      "Performing stepwise search to minimize aic\n",
      " ARIMA(2,1,2)(0,0,0)[0] intercept   : AIC=17197.346, Time=1.18 sec\n",
      " ARIMA(0,1,0)(0,0,0)[0] intercept   : AIC=17201.509, Time=0.04 sec\n",
      " ARIMA(1,1,0)(0,0,0)[0] intercept   : AIC=17193.342, Time=0.14 sec\n",
      " ARIMA(0,1,1)(0,0,0)[0] intercept   : AIC=17193.188, Time=0.18 sec\n",
      " ARIMA(0,1,0)(0,0,0)[0]             : AIC=17199.739, Time=0.06 sec\n",
      " ARIMA(1,1,1)(0,0,0)[0] intercept   : AIC=17195.183, Time=0.27 sec\n",
      " ARIMA(0,1,2)(0,0,0)[0] intercept   : AIC=17195.176, Time=0.34 sec\n",
      " ARIMA(1,1,2)(0,0,0)[0] intercept   : AIC=17196.816, Time=1.37 sec\n",
      " ARIMA(0,1,1)(0,0,0)[0]             : AIC=17191.388, Time=0.08 sec\n",
      " ARIMA(1,1,1)(0,0,0)[0]             : AIC=17193.382, Time=0.10 sec\n",
      " ARIMA(0,1,2)(0,0,0)[0]             : AIC=17193.377, Time=0.21 sec\n",
      " ARIMA(1,1,0)(0,0,0)[0]             : AIC=17191.540, Time=0.06 sec\n",
      " ARIMA(1,1,2)(0,0,0)[0]             : AIC=17195.031, Time=0.39 sec\n",
      "\n",
      "Best model:  ARIMA(0,1,1)(0,0,0)[0]          \n",
      "Total fit time: 4.454 seconds\n"
     ]
    }
   ],
   "source": [
    "model=auto_arima(y=training_data['VWAP'],exogenous=training_data[ind_features],trace=True)"
   ]
  },
  {
   "cell_type": "code",
   "execution_count": 33,
   "metadata": {},
   "outputs": [
    {
     "data": {
      "text/plain": [
       "ARIMA(order=(0, 1, 1), scoring_args={}, suppress_warnings=True,\n",
       "      with_intercept=False)"
      ]
     },
     "execution_count": 33,
     "metadata": {},
     "output_type": "execute_result"
    }
   ],
   "source": [
    "model.fit(training_data['VWAP'],X=training_data[ind_features])"
   ]
  },
  {
   "cell_type": "code",
   "execution_count": 46,
   "metadata": {
    "scrolled": true
   },
   "outputs": [],
   "source": [
    "forecast=model.predict(n_periods=len(test_data), X=test_data[ind_features])\n",
    "forecast=forecast.to_numpy()"
   ]
  },
  {
   "cell_type": "code",
   "execution_count": 47,
   "metadata": {},
   "outputs": [],
   "source": [
    "test_data['Forecast_ARIMA']=forecast"
   ]
  },
  {
   "cell_type": "code",
   "execution_count": 48,
   "metadata": {},
   "outputs": [
    {
     "data": {
      "text/plain": [
       "<AxesSubplot:xlabel='Date'>"
      ]
     },
     "execution_count": 48,
     "metadata": {},
     "output_type": "execute_result"
    },
    {
     "data": {
      "image/png": "[encoded data removed]",
      "text/plain": [
       "<Figure size 1008x504 with 1 Axes>"
      ]
     },
     "metadata": {
      "needs_background": "light"
     },
     "output_type": "display_data"
    }
   ],
   "source": [
    "test_data[['VWAP','Forecast_ARIMA']].plot(figsize=(14,7))"
   ]
  },
  {
   "cell_type": "markdown",
   "metadata": {},
   "source": [
    "#### The Auto ARIMA model seems to do a fairly good job in predicting the stock price"
   ]
  },
  {
   "cell_type": "markdown",
   "metadata": {},
   "source": [
    "#### Checking Accuracy of our model"
   ]
  },
  {
   "cell_type": "code",
   "execution_count": 49,
   "metadata": {},
   "outputs": [],
   "source": [
    "from sklearn.metrics import mean_absolute_error, mean_squared_error"
   ]
  },
  {
   "cell_type": "code",
   "execution_count": 50,
   "metadata": {},
   "outputs": [
    {
     "data": {
      "text/plain": [
       "61.37175626533543"
      ]
     },
     "execution_count": 50,
     "metadata": {},
     "output_type": "execute_result"
    }
   ],
   "source": [
    "np.sqrt(mean_squared_error(test_data['VWAP'],test_data['Forecast_ARIMA']))"
   ]
  },
  {
   "cell_type": "code",
   "execution_count": 51,
   "metadata": {},
   "outputs": [
    {
     "data": {
      "text/plain": [
       "45.53204927799857"
      ]
     },
     "execution_count": 51,
     "metadata": {},
     "output_type": "execute_result"
    }
   ],
   "source": [
    "mean_absolute_error(test_data['VWAP'],test_data['Forecast_ARIMA'])"
   ]
  },
  {
   "cell_type": "code",
   "execution_count": null,
   "metadata": {},
   "outputs": [],
   "source": []
  },
  {
   "cell_type": "code",
   "execution_count": 56,
   "metadata": {},
   "outputs": [],
   "source": [
    "VWAP=test_data['VWAP'].to_numpy()"
   ]
  },
  {
   "cell_type": "code",
   "execution_count": 57,
   "metadata": {
    "scrolled": true
   },
   "outputs": [
    {
     "data": {
      "text/plain": [
       "878.0110153846152"
      ]
     },
     "execution_count": 57,
     "metadata": {},
     "output_type": "execute_result"
    }
   ],
   "source": [
    "np.mean(VWAP)"
   ]
  },
  {
   "cell_type": "markdown",
   "metadata": {},
   "source": [
    "#### ACCURACY OF MODEL IS AROUND 95%"
   ]
  },
  {
   "cell_type": "code",
   "execution_count": null,
   "metadata": {},
   "outputs": [],
   "source": []
  },
  {
   "cell_type": "code",
   "execution_count": null,
   "metadata": {},
   "outputs": [],
   "source": []
  },
  {
   "cell_type": "code",
   "execution_count": null,
   "metadata": {},
   "outputs": [],
   "source": []
  },
  {
   "cell_type": "code",
   "execution_count": null,
   "metadata": {},
   "outputs": [],
   "source": []
  }
 ],
 "metadata": {
  "kernelspec": {
   "display_name": "Python 3 (ipykernel)",
   "language": "python",
   "name": "python3"
  },
  "language_info": {
   "codemirror_mode": {
    "name": "ipython",
    "version": 3
   },
   "file_extension": ".py",
   "mimetype": "text/x-python",
   "name": "python",
   "nbconvert_exporter": "python",
   "pygments_lexer": "ipython3",
   "version": "3.9.7"
  }
 },
 "nbformat": 4,
 "nbformat_minor": 2
}
